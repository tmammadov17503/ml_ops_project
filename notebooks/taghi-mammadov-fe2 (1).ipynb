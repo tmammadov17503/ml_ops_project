{
 "cells": [
  {
   "cell_type": "markdown",
   "id": "cd3404ba-8db2-45c5-947f-7886800fe596",
   "metadata": {},
   "source": [
    "## Importing the Data"
   ]
  },
  {
   "cell_type": "code",
   "execution_count": 3,
   "id": "01d2aa31-993f-4c43-bf4e-ff2537826da9",
   "metadata": {
    "execution": {
     "iopub.execute_input": "2025-08-06T19:24:25.754417Z",
     "iopub.status.busy": "2025-08-06T19:24:25.753915Z",
     "iopub.status.idle": "2025-08-06T19:24:25.916956Z",
     "shell.execute_reply": "2025-08-06T19:24:25.914940Z",
     "shell.execute_reply.started": "2025-08-06T19:24:25.754386Z"
    }
   },
   "outputs": [
    {
     "name": "stdout",
     "output_type": "stream",
     "text": [
      "   Review #           Brand  ... Stars Top Ten\n",
      "0      2580       New Touch  ...  3.75     NaN\n",
      "1      2579        Just Way  ...     1     NaN\n",
      "2      2578          Nissin  ...  2.25     NaN\n",
      "3      2577         Wei Lih  ...  2.75     NaN\n",
      "4      2576  Ching's Secret  ...  3.75     NaN\n",
      "\n",
      "[5 rows x 7 columns]\n"
     ]
    }
   ],
   "source": [
    "import pandas as pd\n",
    "from sklearn.model_selection import train_test_split\n",
    "from sklearn.pipeline import Pipeline\n",
    "from sklearn.impute import SimpleImputer\n",
    "from sklearn.preprocessing import OneHotEncoder, OrdinalEncoder\n",
    "from sklearn.compose import ColumnTransformer\n",
    "from sklearn.metrics import mean_absolute_error, mean_squared_error, r2_score\n",
    "\n",
    "data_ramen = pd.read_csv(\"ramen-ratings.csv\")\n",
    "\n",
    "print(data_ramen.head())"
   ]
  },
  {
   "cell_type": "markdown",
   "id": "1933274c-c177-40e8-ba12-3769b858ebd8",
   "metadata": {},
   "source": [
    "## Looking at the Review Column as Index"
   ]
  },
  {
   "cell_type": "code",
   "execution_count": 4,
   "id": "e5b27c88-2a53-4435-a985-ef27548f3f29",
   "metadata": {
    "execution": {
     "iopub.execute_input": "2025-08-06T19:24:26.134647Z",
     "iopub.status.busy": "2025-08-06T19:24:26.134086Z",
     "iopub.status.idle": "2025-08-06T19:24:26.153309Z",
     "shell.execute_reply": "2025-08-06T19:24:26.152375Z",
     "shell.execute_reply.started": "2025-08-06T19:24:26.134617Z"
    }
   },
   "outputs": [
    {
     "name": "stdout",
     "output_type": "stream",
     "text": [
      "                   Brand  ... Top Ten\n",
      "Review #                  ...        \n",
      "2580           New Touch  ...     NaN\n",
      "2579            Just Way  ...     NaN\n",
      "2578              Nissin  ...     NaN\n",
      "2577             Wei Lih  ...     NaN\n",
      "2576      Ching's Secret  ...     NaN\n",
      "\n",
      "[5 rows x 6 columns]\n"
     ]
    }
   ],
   "source": [
    "data_ramen.set_index(\"Review #\", inplace=True)\n",
    "\n",
    "print(data_ramen.head())"
   ]
  },
  {
   "cell_type": "markdown",
   "id": "49c5e3ee-f324-4743-b750-780d749c569d",
   "metadata": {},
   "source": [
    "## Looking at Stars Column"
   ]
  },
  {
   "cell_type": "code",
   "execution_count": 5,
   "id": "d0c3836a-3b4b-49d0-b273-5456eadbadbd",
   "metadata": {
    "execution": {
     "iopub.execute_input": "2025-08-06T19:24:26.154449Z",
     "iopub.status.busy": "2025-08-06T19:24:26.154211Z",
     "iopub.status.idle": "2025-08-06T19:24:26.167503Z",
     "shell.execute_reply": "2025-08-06T19:24:26.164877Z",
     "shell.execute_reply.started": "2025-08-06T19:24:26.154428Z"
    }
   },
   "outputs": [
    {
     "name": "stdout",
     "output_type": "stream",
     "text": [
      "['3.75' '1' '2.25' '2.75' '4.75' '4' '0.25' '2.5' '5' '4.25' '4.5' '3.5'\n",
      " 'Unrated' '1.5' '3.25' '2' '0' '3' '0.5' '4.00' '5.0' '3.50' '3.8' '4.3'\n",
      " '2.3' '5.00' '3.3' '4.0' '3.00' '1.75' '3.0' '4.50' '0.75' '1.25' '1.1'\n",
      " '2.1' '0.9' '3.1' '4.125' '3.125' '2.125' '2.9' '0.1' '2.8' '3.7' '3.4'\n",
      " '3.6' '2.85' '3.2' '3.65' '1.8']\n"
     ]
    }
   ],
   "source": [
    "print(data_ramen[\"Stars\"].unique()) # we can see her ethat we have unrated, we need to fix it"
   ]
  },
  {
   "cell_type": "code",
   "execution_count": 6,
   "id": "f32586bd-3882-4984-a177-1c9433ba760c",
   "metadata": {
    "execution": {
     "iopub.execute_input": "2025-08-06T19:24:26.329060Z",
     "iopub.status.busy": "2025-08-06T19:24:26.328131Z",
     "iopub.status.idle": "2025-08-06T19:24:26.337754Z",
     "shell.execute_reply": "2025-08-06T19:24:26.336992Z",
     "shell.execute_reply.started": "2025-08-06T19:24:26.329022Z"
    }
   },
   "outputs": [
    {
     "name": "stdout",
     "output_type": "stream",
     "text": [
      "float64\n",
      "number of Unrated found: 3\n"
     ]
    }
   ],
   "source": [
    "# stars column is stored as text, so we will need to turn it into numeric \n",
    "\n",
    "data_ramen[\"Stars\"] = pd.to_numeric(data_ramen[\"Stars\"], errors='coerce') # this will turn all our unrated into NAN\n",
    "print(data_ramen[\"Stars\"].dtype) \n",
    "print('number of Unrated found:', data_ramen[\"Stars\"].isnull().sum())"
   ]
  },
  {
   "cell_type": "code",
   "execution_count": 7,
   "id": "72d2b3bd-c0f9-4234-8cc7-343e2996896e",
   "metadata": {
    "execution": {
     "iopub.execute_input": "2025-08-06T19:24:26.339242Z",
     "iopub.status.busy": "2025-08-06T19:24:26.338955Z",
     "iopub.status.idle": "2025-08-06T19:24:26.346445Z",
     "shell.execute_reply": "2025-08-06T19:24:26.345377Z",
     "shell.execute_reply.started": "2025-08-06T19:24:26.339218Z"
    }
   },
   "outputs": [
    {
     "name": "stdout",
     "output_type": "stream",
     "text": [
      "Brand         0\n",
      "Variety       0\n",
      "Style         2\n",
      "Country       0\n",
      "Stars         3\n",
      "Top Ten    2539\n",
      "dtype: int64\n"
     ]
    }
   ],
   "source": [
    "print(data_ramen.isnull().sum()) # check of all missing values now"
   ]
  },
  {
   "cell_type": "code",
   "execution_count": 8,
   "id": "6071dff5-40f0-4fdd-8bb2-6d7611fa4be5",
   "metadata": {
    "execution": {
     "iopub.execute_input": "2025-08-06T19:24:26.403925Z",
     "iopub.status.busy": "2025-08-06T19:24:26.403589Z",
     "iopub.status.idle": "2025-08-06T19:24:26.410724Z",
     "shell.execute_reply": "2025-08-06T19:24:26.409658Z",
     "shell.execute_reply.started": "2025-08-06T19:24:26.403901Z"
    }
   },
   "outputs": [
    {
     "name": "stdout",
     "output_type": "stream",
     "text": [
      "Index(['Brand', 'Variety', 'Style', 'Country', 'Stars'], dtype='object')\n"
     ]
    }
   ],
   "source": [
    "data_ramen.drop(columns=\"Top Ten\", inplace=True) # I decided to just drop the top ten column cause it all missing\n",
    "\n",
    "print(data_ramen.columns)"
   ]
  },
  {
   "cell_type": "code",
   "execution_count": 9,
   "id": "7f40a6fe-d790-4441-8b58-d1db1815cfa6",
   "metadata": {
    "execution": {
     "iopub.execute_input": "2025-08-06T19:24:26.473411Z",
     "iopub.status.busy": "2025-08-06T19:24:26.472762Z",
     "iopub.status.idle": "2025-08-06T19:24:26.486987Z",
     "shell.execute_reply": "2025-08-06T19:24:26.485895Z",
     "shell.execute_reply.started": "2025-08-06T19:24:26.473379Z"
    }
   },
   "outputs": [
    {
     "name": "stdout",
     "output_type": "stream",
     "text": [
      "(2575, 5)\n"
     ]
    }
   ],
   "source": [
    "data_ramen.dropna(inplace=True) # just dropped missing values cause there are not a lot of them\n",
    "\n",
    "print(data_ramen.shape) # total was 2580 (5 droped 2 for style and 3 for stars) we left with 2575"
   ]
  },
  {
   "cell_type": "markdown",
   "id": "5ccd3bb8-9e11-4b8b-bde5-545048fc12cc",
   "metadata": {},
   "source": [
    "# Train-Test Split"
   ]
  },
  {
   "cell_type": "code",
   "execution_count": 10,
   "id": "d17cbdef-435e-47b7-8fac-8dfde24918ab",
   "metadata": {
    "execution": {
     "iopub.execute_input": "2025-08-06T19:24:26.644211Z",
     "iopub.status.busy": "2025-08-06T19:24:26.643920Z",
     "iopub.status.idle": "2025-08-06T19:24:26.657498Z",
     "shell.execute_reply": "2025-08-06T19:24:26.654999Z",
     "shell.execute_reply.started": "2025-08-06T19:24:26.644190Z"
    }
   },
   "outputs": [
    {
     "name": "stdout",
     "output_type": "stream",
     "text": [
      "Train shape: (2060, 4)\n",
      "Test shape: (515, 4)\n"
     ]
    }
   ],
   "source": [
    "X = data_ramen.drop(columns=\"Stars\")\n",
    "y = data_ramen[\"Stars\"]\n",
    "\n",
    "X_train, X_test, y_train, y_test = train_test_split(X, y, test_size=0.2, random_state=42)\n",
    "\n",
    "print(\"Train shape:\", X_train.shape)\n",
    "print(\"Test shape:\", X_test.shape)"
   ]
  },
  {
   "cell_type": "markdown",
   "id": "734d6e0b-b232-43a5-9ed7-0dbb95e0ecab",
   "metadata": {},
   "source": [
    "## Feature types"
   ]
  },
  {
   "cell_type": "code",
   "execution_count": 11,
   "id": "0ec6b342-fccb-4b19-91b8-667e28341f78",
   "metadata": {
    "editable": true,
    "execution": {
     "iopub.execute_input": "2025-08-06T19:24:26.815487Z",
     "iopub.status.busy": "2025-08-06T19:24:26.814791Z",
     "iopub.status.idle": "2025-08-06T19:24:26.820588Z",
     "shell.execute_reply": "2025-08-06T19:24:26.819633Z",
     "shell.execute_reply.started": "2025-08-06T19:24:26.815456Z"
    },
    "slideshow": {
     "slide_type": ""
    },
    "tags": []
   },
   "outputs": [],
   "source": [
    "# no Numercial features mainly \n",
    "#categorical_features = [\"Brand\", \"Style\", \"Country\"]\n",
    "\n",
    "l_m_cardinal = [\"Style\", \"Country\"] # I decided to change the features due to the homework and here we have low + medium cardinality\n",
    "\n",
    "high_cardinal = [\"Brand\"] # and here high cardinality"
   ]
  },
  {
   "cell_type": "markdown",
   "id": "e8942331-4a17-4507-be64-c3278f7a2ec8",
   "metadata": {},
   "source": [
    "## Categorical Transformer"
   ]
  },
  {
   "cell_type": "code",
   "execution_count": 12,
   "id": "7c65708d-908e-40fe-bcff-248b7ffd2ceb",
   "metadata": {
    "execution": {
     "iopub.execute_input": "2025-08-06T19:24:26.989318Z",
     "iopub.status.busy": "2025-08-06T19:24:26.988720Z",
     "iopub.status.idle": "2025-08-06T19:24:26.994914Z",
     "shell.execute_reply": "2025-08-06T19:24:26.993562Z",
     "shell.execute_reply.started": "2025-08-06T19:24:26.989288Z"
    }
   },
   "outputs": [],
   "source": [
    "#categorical_transformer = Pipeline(steps=[\n",
    "#    (\"imputer\", SimpleImputer(strategy=\"most_frequent\")),\n",
    "#    (\"encoder\", OneHotEncoder(handle_unknown=\"ignore\"))\n",
    "#])\n",
    "\n",
    "l_m_cardinal_transformer = Pipeline(steps=[\n",
    "    (\"imputer\", SimpleImputer(strategy=\"most_frequent\")),\n",
    "    (\"encoder\", OneHotEncoder(handle_unknown=\"ignore\"))\n",
    "])"
   ]
  },
  {
   "cell_type": "code",
   "execution_count": 13,
   "id": "9692fcf5-04f7-4cb3-981e-77eee4862171",
   "metadata": {
    "execution": {
     "iopub.execute_input": "2025-08-06T19:24:27.443827Z",
     "iopub.status.busy": "2025-08-06T19:24:27.443101Z",
     "iopub.status.idle": "2025-08-06T19:24:27.449781Z",
     "shell.execute_reply": "2025-08-06T19:24:27.448770Z",
     "shell.execute_reply.started": "2025-08-06T19:24:27.443710Z"
    }
   },
   "outputs": [],
   "source": [
    "high_cardinal_transformer = Pipeline(steps=[\n",
    "    (\"imputer\", SimpleImputer(strategy=\"most_frequent\")),\n",
    "    (\"encoder\", OrdinalEncoder(handle_unknown=\"use_encoded_value\", unknown_value=-1))\n",
    "])"
   ]
  },
  {
   "cell_type": "code",
   "execution_count": 14,
   "id": "dba134f9-3311-4962-92fc-851773b89b74",
   "metadata": {
    "execution": {
     "iopub.execute_input": "2025-08-06T19:24:27.816080Z",
     "iopub.status.busy": "2025-08-06T19:24:27.815621Z",
     "iopub.status.idle": "2025-08-06T19:24:27.822181Z",
     "shell.execute_reply": "2025-08-06T19:24:27.821399Z",
     "shell.execute_reply.started": "2025-08-06T19:24:27.816038Z"
    }
   },
   "outputs": [],
   "source": [
    "#preprocessor = ColumnTransformer(\n",
    " #   transformers=[\n",
    "  #      (\"cat\", categorical_transformer, categorical_features)\n",
    "   # ],\n",
    "    #remainder=\"drop\"  \n",
    "#)\n",
    "\n",
    "# the new version for the homework \n",
    "preprocessor = ColumnTransformer(transformers=[\n",
    "    (\"onehot\", l_m_cardinal_transformer, l_m_cardinal),\n",
    "    (\"ordinal\", high_cardinal_transformer, high_cardinal)\n",
    "])"
   ]
  },
  {
   "cell_type": "markdown",
   "id": "c11eebcb-1531-4187-88d7-618b183f3bf1",
   "metadata": {},
   "source": [
    "## Final Pipeline with Preprocessing"
   ]
  },
  {
   "cell_type": "code",
   "execution_count": 15,
   "id": "107eedfb-793c-4785-881c-5db25b84d07d",
   "metadata": {
    "execution": {
     "iopub.execute_input": "2025-08-06T19:24:29.029976Z",
     "iopub.status.busy": "2025-08-06T19:24:29.028333Z",
     "iopub.status.idle": "2025-08-06T19:24:30.247476Z",
     "shell.execute_reply": "2025-08-06T19:24:30.244510Z",
     "shell.execute_reply.started": "2025-08-06T19:24:29.029934Z"
    }
   },
   "outputs": [],
   "source": [
    "from sklearn.ensemble import RandomForestRegressor\n",
    "\n",
    "model_pipeline = Pipeline(steps=[\n",
    "    (\"preprocess\", preprocessor),\n",
    "    (\"model\", RandomForestRegressor(random_state=42))\n",
    "])\n",
    "\n",
    "model_pipeline.fit(X_train, y_train)\n",
    "\n",
    "y_pred = model_pipeline.predict(X_test)"
   ]
  },
  {
   "cell_type": "markdown",
   "id": "0ed5c687-a178-496c-ad65-e915bd528c1c",
   "metadata": {},
   "source": [
    "## Now lets Evaluate the Model"
   ]
  },
  {
   "cell_type": "code",
   "execution_count": 16,
   "id": "a3cec857-440e-4e66-9b91-2b3928421b39",
   "metadata": {
    "execution": {
     "iopub.execute_input": "2025-08-06T19:24:30.249312Z",
     "iopub.status.busy": "2025-08-06T19:24:30.248801Z",
     "iopub.status.idle": "2025-08-06T19:24:30.263902Z",
     "shell.execute_reply": "2025-08-06T19:24:30.261343Z",
     "shell.execute_reply.started": "2025-08-06T19:24:30.249285Z"
    }
   },
   "outputs": [
    {
     "name": "stdout",
     "output_type": "stream",
     "text": [
      "MAE: 0.70\n",
      "MSE: 0.92\n",
      "R² Score: 0.08\n"
     ]
    }
   ],
   "source": [
    "mae = mean_absolute_error(y_test, y_pred)\n",
    "mse = mean_squared_error(y_test, y_pred)\n",
    "r2 = r2_score(y_test, y_pred)\n",
    "\n",
    "print(f\"MAE: {mae:.2f}\")\n",
    "print(f\"MSE: {mse:.2f}\")\n",
    "print(f\"R² Score: {r2:.2f}\")"
   ]
  },
  {
   "cell_type": "markdown",
   "id": "2d68e2ae-551f-4e43-ab74-221f85405533",
   "metadata": {},
   "source": [
    "## Visualization"
   ]
  },
  {
   "cell_type": "code",
   "execution_count": 17,
   "id": "aa144d79-cc14-4cc8-a649-038524ec7e74",
   "metadata": {
    "execution": {
     "iopub.execute_input": "2025-08-06T19:24:30.695490Z",
     "iopub.status.busy": "2025-08-06T19:24:30.694708Z",
     "iopub.status.idle": "2025-08-06T19:24:31.490578Z",
     "shell.execute_reply": "2025-08-06T19:24:31.488754Z",
     "shell.execute_reply.started": "2025-08-06T19:24:30.695460Z"
    }
   },
   "outputs": [
    {
     "data": {
      "image/png": "[encoded data removed]",
      "text/plain": [
       "<Figure size 600x600 with 1 Axes>"
      ]
     },
     "metadata": {},
     "output_type": "display_data"
    }
   ],
   "source": [
    "import matplotlib.pyplot as plt\n",
    "\n",
    "plt.figure(figsize=(6, 6))\n",
    "plt.scatter(y_test, y_pred, alpha=0.6, edgecolors='k')\n",
    "plt.plot([y_test.min(), y_test.max()], [y_test.min(), y_test.max()], 'r--', lw=2)\n",
    "plt.xlabel(\"Actual Stars\")\n",
    "plt.ylabel(\"Predicted Stars\")\n",
    "plt.title(\"Actual vs Predicted Stars\")\n",
    "plt.grid(True)\n",
    "plt.show()"
   ]
  },
  {
   "cell_type": "code",
   "execution_count": null,
   "id": "81e91acd-3013-47ef-a52b-9eab5b608962",
   "metadata": {},
   "outputs": [],
   "source": []
  }
 ],
 "metadata": {
  "kernelspec": {
   "display_name": "Python 3 (ipykernel)",
   "language": "python",
   "name": "python3"
  },
  "language_info": {
   "codemirror_mode": {
    "name": "ipython",
    "version": 3
   },
   "file_extension": ".py",
   "mimetype": "text/x-python",
   "name": "python",
   "nbconvert_exporter": "python",
   "pygments_lexer": "ipython3",
   "version": "3.12.9"
  }
 },
 "nbformat": 4,
 "nbformat_minor": 5
}
